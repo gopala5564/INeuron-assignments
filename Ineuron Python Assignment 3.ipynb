{
 "cells": [
  {
   "cell_type": "markdown",
   "id": "a88f7994",
   "metadata": {},
   "source": [
    "1.1 Write a Python Program to implement your own myreduce() function which works exactly like Python's built-in function reduce()\n",
    "\n"
   ]
  },
  {
   "cell_type": "code",
   "execution_count": 3,
   "id": "31dec9e3",
   "metadata": {},
   "outputs": [
    {
     "name": "stdout",
     "output_type": "stream",
     "text": [
      "Output with original reduce function:  -1030\n",
      "Output with custom myreduce function:  -1030\n"
     ]
    }
   ],
   "source": [
    "from functools import reduce\n",
    "\n",
    "\n",
    "def data1(a, b):\n",
    "    return a-b\n",
    "\n",
    "\n",
    "l = [77,44,667,43,64,234,55]\n",
    "\n",
    "print(\"Output with original reduce function: \", reduce(data1, l))\n",
    "\n",
    "# creating custom myreduce function\n",
    "def myreduce1(function, sequence):\n",
    "    first_ele = sequence[0]  # take the first element from sequence\n",
    "    # as first is taken, we will start from second element and iterate\n",
    "    for next_ele in sequence[1:]:\n",
    "        first_ele = function(first_ele, next_ele)\n",
    "    return first_ele\n",
    "\n",
    "\n",
    "print(\"Output with custom myreduce function: \", myreduce1(minus, l))"
   ]
  },
  {
   "cell_type": "markdown",
   "id": "f16e022a",
   "metadata": {},
   "source": [
    "1.2 Write a Python program to implement your own myfilter() function which works exactly like Python's built-in function filter()\n",
    "\n"
   ]
  },
  {
   "cell_type": "code",
   "execution_count": 7,
   "id": "ff1fa68d",
   "metadata": {},
   "outputs": [
    {
     "name": "stdout",
     "output_type": "stream",
     "text": [
      "When used original filter function:  [55, 33, 43, 23, 55, 67, 77, 9, 99, 6627]\n",
      "When used custom myfilter function:  [55, 33, 43, 23, 55, 67, 77, 9, 99, 6627]\n"
     ]
    }
   ],
   "source": [
    "def odd1(num):\n",
    "    if num % 2 == 0:\n",
    "        return False\n",
    "    else:\n",
    "        return True\n",
    "\n",
    "\n",
    "lst = [55,33,43,23,55,67,77,8,9,99,6627]\n",
    "\n",
    "print(\"When used original filter function: \", list(filter(odd1, lst)))\n",
    "\n",
    "\n",
    "def myfilter(function, sequence):  # creating custom myfilter function\n",
    "    # as return type of inbuilt filter is iterable object, we create list which our custom filter can return\n",
    "    new_list = []\n",
    "    for ele in sequence:\n",
    "        if function(ele) == True:\n",
    "            # insterting in the list which we created\n",
    "            new_list.append(ele)\n",
    "    return new_list\n",
    "\n",
    "\n",
    "print(\"When used custom myfilter function: \", list(myfilter(odd_number, lst)))"
   ]
  },
  {
   "cell_type": "markdown",
   "id": "c825ea2b",
   "metadata": {},
   "source": [
    "2. Implement List comprehensions to produce the following lists.Write List comprehensions to produce the following Lists\n"
   ]
  },
  {
   "cell_type": "code",
   "execution_count": 21,
   "id": "e1e3c24c",
   "metadata": {},
   "outputs": [
    {
     "name": "stdout",
     "output_type": "stream",
     "text": [
      "The actual list is:  ['x', 'y', 'z']\n",
      "The new list is :  ['x', 'xx', 'xxx', 'xxxx', 'y', 'yy', 'yyy', 'yyyy', 'z', 'zz', 'zzz', 'zzzz']\n"
     ]
    }
   ],
   "source": [
    "# ['x', 'xx', 'xxx', 'xxxx', 'y', 'yy', 'yyy', 'yyyy', 'z', 'zz', 'zzz', 'zzzz']\n",
    "\n",
    "List_1 = ['x', 'y', 'z']\n",
    "new_list = [k*i for k in List_1 for i in range(1, 5)]\n",
    "print(\"The actual list is: \", List_1)\n",
    "print(\"The new list is : \", new_list)"
   ]
  },
  {
   "cell_type": "code",
   "execution_count": 24,
   "id": "da81de2b",
   "metadata": {},
   "outputs": [
    {
     "name": "stdout",
     "output_type": "stream",
     "text": [
      "The actual list is:  ['x', 'y', 'z']\n",
      "The new list is :  ['x', 'y', 'z', 'xx', 'yy', 'zz', 'xxx', 'yyy', 'zzz', 'xxxx', 'yyyy', 'zzzz']\n"
     ]
    }
   ],
   "source": [
    "# ['x', 'y', 'z', 'xx', 'yy', 'zz', 'xxx', 'yyy', 'zzz', 'xxxx', 'yyyy', 'zzzz']\n",
    "\n",
    "new_output = [ele*num for num in range(1, 5) for ele in List_1]\n",
    "print(\"The actual list is: \", List_1)\n",
    "print(\"The new list is : \", new_output)"
   ]
  },
  {
   "cell_type": "code",
   "execution_count": 57,
   "id": "7a3d79a2",
   "metadata": {},
   "outputs": [
    {
     "name": "stdout",
     "output_type": "stream",
     "text": [
      "[2, 3, 4] -----> [[2], [3], [4], [3], [4], [5], [4], [5], [6]]\n"
     ]
    }
   ],
   "source": [
    "# [[2], [3], [4], [3], [4], [5], [4], [5], [6]]\n",
    "\n",
    "num_lst = [2, 3, 4]\n",
    "new_list = [[i+k] for i in num_lst for k in range(3)]\n",
    "print(num_lst, \"----->\", new_list)"
   ]
  },
  {
   "cell_type": "code",
   "execution_count": 54,
   "id": "02b62cd7",
   "metadata": {},
   "outputs": [
    {
     "name": "stdout",
     "output_type": "stream",
     "text": [
      "[[2, 3, 4, 5], [3, 4, 5, 6], [4, 5, 6, 7], [5, 6, 7, 8]]\n"
     ]
    }
   ],
   "source": [
    "#[[2, 3, 4, 5], [3, 4, 5, 6], [4, 5, 6, 7], [5, 6, 7, 8]]\n",
    "number1=[2,3,4,5]\n",
    "number2=[[x+n for n in range(0,4)] for x in number1 ]\n",
    "print(number2)"
   ]
  },
  {
   "cell_type": "code",
   "execution_count": 55,
   "id": "a912a928",
   "metadata": {},
   "outputs": [
    {
     "name": "stdout",
     "output_type": "stream",
     "text": [
      "[(1, 1), (2, 1), (3, 1), (1, 2), (2, 2), (3, 2), (1, 3), (2, 3), (3, 3)]\n"
     ]
    }
   ],
   "source": [
    "#[(1, 1), (2, 1), (3, 1), (1, 2), (2, 2), (3, 2), (1, 3), (2, 3), (3, 3)]\n",
    "number_4=[1,2,3]\n",
    "number_5= [(b,a) for a in number_4 for b in number_4]\n",
    "print(number_5)"
   ]
  },
  {
   "cell_type": "code",
   "execution_count": null,
   "id": "e9e7a6dd",
   "metadata": {},
   "outputs": [],
   "source": []
  },
  {
   "cell_type": "code",
   "execution_count": null,
   "id": "354daaf9",
   "metadata": {},
   "outputs": [],
   "source": []
  },
  {
   "cell_type": "code",
   "execution_count": null,
   "id": "06ea5bc8",
   "metadata": {},
   "outputs": [],
   "source": []
  },
  {
   "cell_type": "code",
   "execution_count": null,
   "id": "958dd583",
   "metadata": {},
   "outputs": [],
   "source": []
  }
 ],
 "metadata": {
  "kernelspec": {
   "display_name": "Python 3",
   "language": "python",
   "name": "python3"
  },
  "language_info": {
   "codemirror_mode": {
    "name": "ipython",
    "version": 3
   },
   "file_extension": ".py",
   "mimetype": "text/x-python",
   "name": "python",
   "nbconvert_exporter": "python",
   "pygments_lexer": "ipython3",
   "version": "3.8.8"
  }
 },
 "nbformat": 4,
 "nbformat_minor": 5
}
